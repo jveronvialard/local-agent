{
 "cells": [
  {
   "cell_type": "code",
   "execution_count": 1,
   "id": "e294fcec-23fa-4e5a-b900-05f66c3d736d",
   "metadata": {},
   "outputs": [],
   "source": [
    "import time\n",
    "\n",
    "from src.agent import LocalAgent\n",
    "from src.tools import download_youtube_audio_as_mp3, convert_from_mp3_to_wav, get_wav_transcript, get_most_recent_reddit_submissions"
   ]
  },
  {
   "cell_type": "code",
   "execution_count": 2,
   "id": "fe1d6a35-bf24-41e8-82d7-acbc19e5333c",
   "metadata": {},
   "outputs": [],
   "source": [
    "MODEL_PATH = \"./models/Nous-Hermes-2-Yi-34B.Q3_K_M.gguf\""
   ]
  },
  {
   "cell_type": "code",
   "execution_count": null,
   "id": "c9c2c249-5bda-461b-be7a-c7dd9414efa8",
   "metadata": {},
   "outputs": [],
   "source": []
  },
  {
   "cell_type": "markdown",
   "id": "b7976ea7-2ce5-4b57-adf8-ad723a7f4466",
   "metadata": {},
   "source": [
    "YouTube"
   ]
  },
  {
   "cell_type": "code",
   "execution_count": 3,
   "id": "4feb3f3f-a6d3-4f6d-a4e2-ef2db82f78c9",
   "metadata": {},
   "outputs": [],
   "source": [
    "local_agent = LocalAgent(\n",
    "    model_path=MODEL_PATH,\n",
    "    functions=[download_youtube_audio_as_mp3, convert_from_mp3_to_wav, get_wav_transcript],\n",
    ")"
   ]
  },
  {
   "cell_type": "code",
   "execution_count": null,
   "id": "ace8e9ea-d777-41a9-b392-c9c1b469bb6a",
   "metadata": {},
   "outputs": [],
   "source": []
  },
  {
   "cell_type": "code",
   "execution_count": null,
   "id": "8d1f95e6-caab-4c5d-a0a8-324d1fc29e70",
   "metadata": {},
   "outputs": [],
   "source": [
    "start = time.time()\n",
    "response, history, messages = local_agent.ask('How does Dario think about model scaling? \"https://www.youtube.com/watch?v=Nlkk3glap_U\"')\n",
    "elapsed = time.time() - start"
   ]
  },
  {
   "cell_type": "code",
   "execution_count": 5,
   "id": "314ac18f-2318-49fc-85db-a408f923847a",
   "metadata": {},
   "outputs": [
    {
     "data": {
      "text/plain": [
       "\"Dario believes that we still don't know why scaling works and why it leads to intelligent behavior. He mentions some ideas about correlations and statistical averages, but admits that we don't have a satisfying explanation yet. He also points out that specific abilities, such as learning arithmetic or coding, can be very hard to predict and that there is a continuous process going on behind the scenes. Dario suggests that mechanistic interpretability could help understand these processes better, but currently, there's still much we don't understand about how neural networks learn and become intelligent.\""
      ]
     },
     "execution_count": 5,
     "metadata": {},
     "output_type": "execute_result"
    }
   ],
   "source": [
    "response"
   ]
  },
  {
   "cell_type": "code",
   "execution_count": 6,
   "id": "6b2f96e8-dd27-4b09-86c8-f8207d45af8c",
   "metadata": {},
   "outputs": [
    {
     "data": {
      "text/plain": [
       "['download_youtube_audio_as_mp3',\n",
       " 'convert_from_mp3_to_wav',\n",
       " 'get_wav_transcript',\n",
       " 'reply_with_answer']"
      ]
     },
     "execution_count": 6,
     "metadata": {},
     "output_type": "execute_result"
    }
   ],
   "source": [
    "[h[\"name\"] for h in history]"
   ]
  },
  {
   "cell_type": "code",
   "execution_count": 7,
   "id": "8b87d3e2-5fe1-4290-9eb2-8cdd81938192",
   "metadata": {},
   "outputs": [
    {
     "data": {
      "text/plain": [
       "269.88984394073486"
      ]
     },
     "execution_count": 7,
     "metadata": {},
     "output_type": "execute_result"
    }
   ],
   "source": [
    "elapsed"
   ]
  },
  {
   "cell_type": "code",
   "execution_count": null,
   "id": "cef7479e-149c-444c-aca3-a0e943315f00",
   "metadata": {},
   "outputs": [],
   "source": []
  },
  {
   "cell_type": "code",
   "execution_count": null,
   "id": "2a5106ed-c98d-4df0-a613-9024d959a9ac",
   "metadata": {},
   "outputs": [],
   "source": [
    "start = time.time()\n",
    "response, history, messages = local_agent.ask('Which event is mentionned in this video? \"https://www.youtube.com/watch?v=n9R1ts_xfgc\"')\n",
    "elapsed = time.time() - start"
   ]
  },
  {
   "cell_type": "code",
   "execution_count": 9,
   "id": "c4cfe4a1-39b5-4f5e-9f36-3e6899648c01",
   "metadata": {},
   "outputs": [
    {
     "data": {
      "text/plain": [
       "'The event mentioned in this video is the NVIDIA GPU Technology Conference.'"
      ]
     },
     "execution_count": 9,
     "metadata": {},
     "output_type": "execute_result"
    }
   ],
   "source": [
    "response"
   ]
  },
  {
   "cell_type": "code",
   "execution_count": 10,
   "id": "21d87b72-bd97-4a51-8ea4-b88b11384557",
   "metadata": {},
   "outputs": [
    {
     "data": {
      "text/plain": [
       "['download_youtube_audio_as_mp3',\n",
       " 'convert_from_mp3_to_wav',\n",
       " 'get_wav_transcript',\n",
       " 'reply_with_answer']"
      ]
     },
     "execution_count": 10,
     "metadata": {},
     "output_type": "execute_result"
    }
   ],
   "source": [
    "[h[\"name\"] for h in history]"
   ]
  },
  {
   "cell_type": "code",
   "execution_count": 11,
   "id": "cd5d9817-ee0d-4680-a31a-28b615cf9978",
   "metadata": {},
   "outputs": [
    {
     "data": {
      "text/plain": [
       "139.71590304374695"
      ]
     },
     "execution_count": 11,
     "metadata": {},
     "output_type": "execute_result"
    }
   ],
   "source": [
    "elapsed"
   ]
  },
  {
   "cell_type": "code",
   "execution_count": null,
   "id": "d804426d-4334-4a0b-bdb1-9dd1e8013c34",
   "metadata": {},
   "outputs": [],
   "source": []
  },
  {
   "cell_type": "markdown",
   "id": "d17c99ff-50ff-49e6-8bab-b1725ca7213d",
   "metadata": {},
   "source": [
    "Reddit"
   ]
  },
  {
   "cell_type": "code",
   "execution_count": 12,
   "id": "e7b2063e-19cd-474b-83d8-b34a0d420414",
   "metadata": {},
   "outputs": [],
   "source": [
    "local_agent = LocalAgent(\n",
    "    model_path=MODEL_PATH,\n",
    "    functions=[get_most_recent_reddit_submissions],\n",
    "    environ={\n",
    "        \"REDDIT_CLIENT_ID\": \"367tx9kQ3kUhpDY55XZ8EA\",\n",
    "        \"REDDIT_CLIENT_SECRET\": \"jtNHhA64bx97FpmakY5XhlNwBaaM3Q\",\n",
    "        \"REDDIT_USER_AGENT\": \"SpiritedBit4426\",\n",
    "    }\n",
    ")"
   ]
  },
  {
   "cell_type": "code",
   "execution_count": 13,
   "id": "ece762d0-d470-46cd-8f19-58c92da0b1c3",
   "metadata": {},
   "outputs": [],
   "source": [
    "start = time.time()\n",
    "response, history, messages = local_agent.ask('Summarize the most recent topics of discussion on r/LocalLLaMA?')\n",
    "elapsed = time.time() - start"
   ]
  },
  {
   "cell_type": "code",
   "execution_count": 14,
   "id": "f0903eb0-0af1-4139-82e2-58c0c30dab28",
   "metadata": {},
   "outputs": [
    {
     "data": {
      "text/plain": [
       "\"The most recent topics of discussion on r/LocalLLaMA include models megathread, Microsoft news, AI server comparison, Tiny Corp's decision, Open weight models, NVIDIA alternatives, WOPR building, LocalAI release, and Japanese Web Novel dataset.\""
      ]
     },
     "execution_count": 14,
     "metadata": {},
     "output_type": "execute_result"
    }
   ],
   "source": [
    "response"
   ]
  },
  {
   "cell_type": "code",
   "execution_count": 15,
   "id": "c70c5886-61cc-4c5e-8ea3-e1450d889103",
   "metadata": {},
   "outputs": [
    {
     "data": {
      "text/plain": [
       "['get_most_recent_reddit_submissions', 'reply_with_answer']"
      ]
     },
     "execution_count": 15,
     "metadata": {},
     "output_type": "execute_result"
    }
   ],
   "source": [
    "[h[\"name\"] for h in history]"
   ]
  },
  {
   "cell_type": "code",
   "execution_count": 16,
   "id": "9cd37189-9971-4913-8d08-ba2e444b8d48",
   "metadata": {},
   "outputs": [
    {
     "data": {
      "text/plain": [
       "100.5682110786438"
      ]
     },
     "execution_count": 16,
     "metadata": {},
     "output_type": "execute_result"
    }
   ],
   "source": [
    "elapsed"
   ]
  },
  {
   "cell_type": "code",
   "execution_count": null,
   "id": "464faa3a-cdc8-4614-89b6-383a3a578df4",
   "metadata": {},
   "outputs": [],
   "source": []
  },
  {
   "cell_type": "code",
   "execution_count": null,
   "id": "e142eee8-24a0-4d71-a7d5-856c04bd7583",
   "metadata": {},
   "outputs": [],
   "source": []
  }
 ],
 "metadata": {
  "kernelspec": {
   "display_name": "Python [conda env:llamacpp]",
   "language": "python",
   "name": "conda-env-llamacpp-py"
  },
  "language_info": {
   "codemirror_mode": {
    "name": "ipython",
    "version": 3
   },
   "file_extension": ".py",
   "mimetype": "text/x-python",
   "name": "python",
   "nbconvert_exporter": "python",
   "pygments_lexer": "ipython3",
   "version": "3.12.2"
  }
 },
 "nbformat": 4,
 "nbformat_minor": 5
}
